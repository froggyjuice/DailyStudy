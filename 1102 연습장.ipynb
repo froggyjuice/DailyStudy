{
 "cells": [
  {
   "cell_type": "code",
   "execution_count": 3,
   "metadata": {},
   "outputs": [
    {
     "name": "stdout",
     "output_type": "stream",
     "text": [
      "[1, 2, 3, 4, 5, 5] [1, 2, 3, 4, 5]\n",
      "[1, 2, 3, 4, 5]\n"
     ]
    }
   ],
   "source": [
    "# 주소를 스택에 저장\n",
    "a = [1, 2, 3, 4]\n",
    "b = a\n",
    "\n",
    "a.append(5)\n",
    "a = a + [5]\n",
    "\n",
    "print(a, b)\n",
    "print(b)"
   ]
  },
  {
   "cell_type": "code",
   "execution_count": 1,
   "metadata": {},
   "outputs": [
    {
     "data": {
      "text/plain": [
       "-54"
      ]
     },
     "execution_count": 1,
     "metadata": {},
     "output_type": "execute_result"
    }
   ],
   "source": [
    "1970-2024"
   ]
  },
  {
   "cell_type": "code",
   "execution_count": null,
   "metadata": {},
   "outputs": [],
   "source": [
    "a = 10\n",
    "b = [1, 2, 3, 4]\n",
    "\n",
    "print(a, b)\n",
    "\n",
    "def function_a(c, d):\n",
    "    c = 20\n",
    "    d = [5, 6, 7, 8]\n",
    "function_a(a, b)\n",
    "print(a, b)\n",
    "\n",
    "def function_b(c, d):\n",
    "    c = 30\n",
    "    d.extend([9, 10])\n",
    "function_b(a, b)\n",
    "print(a, b)"
   ]
  },
  {
   "cell_type": "markdown",
   "metadata": {},
   "source": [
    "1. 불변 객체 (숫자, 문자열 등)\n",
    " -> 포스트잇이나 우편함 번호처럼, 값을 변경하려면 새로운 객체를 만들어야 함 (함수 내에서 값을 변경해도 원본에 영향이 없음)\n",
    " -> \"값을 복사\"\n",
    "2. 가변 객체 (리스트, 딕셔너리 등)\n",
    " -> 화이트보드나 책장처럼 내용을 직접 수정 가능 (함수 내에서 객체를 수정하면 원본도 변경되지만, 아예 새로운 객체를 할당하는 것은 원본에 영향이 없음)\n",
    " -> \"참조를 공유\"\n",
    "\n",
    " *** 함수에서 새로운 객체를 할당(=)하는 것은 지역 변수(local variable)을 만듦 (함수 실행이 끝나면 날아감)\n",
    " *** 가변 객체의 메서드(extend, append 등)를 사용할 때만 원본이 수정됨"
   ]
  },
  {
   "cell_type": "code",
   "execution_count": 5,
   "metadata": {},
   "outputs": [
    {
     "name": "stdout",
     "output_type": "stream",
     "text": [
      "123 [1, 2]\n",
      "None\n",
      "123 [1, 2]\n",
      "None\n",
      "123 [1, 2, 4, 4]\n"
     ]
    }
   ],
   "source": [
    "a = 123\n",
    "b = [1, 2]\n",
    "\n",
    "def function_a(A, B):\n",
    "    A = 456\n",
    "    B = [3]\n",
    "\n",
    "def function_b(A, B):\n",
    "    A = 789\n",
    "    B.append(4)\n",
    "\n",
    "print(a, b)\n",
    "\n",
    "print(function_a(a, b))\n",
    "function_a(a, b)\n",
    "print(a, b)\n",
    "\n",
    "print(function_b(a, b))\n",
    "function_b(a, b)\n",
    "print(a, b)\n"
   ]
  },
  {
   "cell_type": "code",
   "execution_count": 6,
   "metadata": {},
   "outputs": [
    {
     "name": "stdout",
     "output_type": "stream",
     "text": [
      "처음: 10 ['사과', '바나나']\n",
      "함수 내부 - 할인율: 20, 장바구니: ['오렌지']\n",
      "할인 적용 후: 10 ['사과', '바나나']\n",
      "함수 내부 - 할인율: 30, 장바구니: ['사과', '바나나', '포도']\n",
      "상품 추가 후: 10 ['사과', '바나나', '포도']\n"
     ]
    }
   ],
   "source": [
    "# 퀴즈 1: 쇼핑몰 장바구니\n",
    "할인율 = 10\n",
    "장바구니 = ['사과', '바나나']\n",
    "\n",
    "def 할인적용(rate, cart):\n",
    "    rate = 20\n",
    "    cart = ['오렌지']\n",
    "    print(f\"함수 내부 - 할인율: {rate}, 장바구니: {cart}\")\n",
    "\n",
    "def 상품추가(rate, cart):\n",
    "    rate = 30\n",
    "    cart.append('포도')\n",
    "    print(f\"함수 내부 - 할인율: {rate}, 장바구니: {cart}\")\n",
    "\n",
    "print(\"처음:\", 할인율, 장바구니)\n",
    "할인적용(할인율, 장바구니)\n",
    "print(\"할인 적용 후:\", 할인율, 장바구니)\n",
    "상품추가(할인율, 장바구니)\n",
    "print(\"상품 추가 후:\", 할인율, 장바구니)\n"
   ]
  },
  {
   "cell_type": "code",
   "execution_count": 7,
   "metadata": {},
   "outputs": [
    {
     "name": "stdout",
     "output_type": "stream",
     "text": [
      "\n",
      "처음: 80 [85, 90]\n",
      "함수 내부 - 점수: 85, 이력: [95, 100]\n",
      "성적 수정 후: 80 [85, 90]\n",
      "함수 내부 - 점수: 90, 이력: [85, 90, 90]\n",
      "성적 추가 후: 80 [85, 90, 90]\n"
     ]
    }
   ],
   "source": [
    "# 퀴즈 2: 학생 성적 관리\n",
    "점수 = 80\n",
    "성적이력 = [85, 90]\n",
    "\n",
    "def 성적수정(score, history):\n",
    "    score += 5\n",
    "    history = [95, 100]\n",
    "    print(f\"함수 내부 - 점수: {score}, 이력: {history}\")\n",
    "\n",
    "def 성적추가(score, history):\n",
    "    score += 10\n",
    "    history += [score]\n",
    "    print(f\"함수 내부 - 점수: {score}, 이력: {history}\")\n",
    "\n",
    "print(\"\\n처음:\", 점수, 성적이력)\n",
    "성적수정(점수, 성적이력)\n",
    "print(\"성적 수정 후:\", 점수, 성적이력)\n",
    "성적추가(점수, 성적이력)\n",
    "print(\"성적 추가 후:\", 점수, 성적이력)"
   ]
  },
  {
   "cell_type": "code",
   "execution_count": 8,
   "metadata": {},
   "outputs": [
    {
     "name": "stdout",
     "output_type": "stream",
     "text": [
      "\n",
      "처음: 100 ['검', '방패']\n",
      "아이템 교체 후:\n",
      "반환값: 120 ['활']\n",
      "원본값: 100 ['검', '방패']\n",
      "아이템 획득 후:\n",
      "반환값: 150 ['검', '방패', '물약']\n",
      "원본값: 100 ['검', '방패', '물약']\n"
     ]
    }
   ],
   "source": [
    "# 퀴즈 3: 게임 캐릭터 상태\n",
    "체력 = 100\n",
    "아이템목록 = ['검', '방패']\n",
    "\n",
    "def 아이템교체(hp, items):\n",
    "    hp = 120\n",
    "    items = ['활']\n",
    "    return hp, items\n",
    "\n",
    "def 아이템획득(hp, items):\n",
    "    hp = 150\n",
    "    items.extend(['물약'])\n",
    "    return hp, items\n",
    "\n",
    "print(\"\\n처음:\", 체력, 아이템목록)\n",
    "새체력, 새아이템 = 아이템교체(체력, 아이템목록)\n",
    "print(\"아이템 교체 후:\")\n",
    "print(\"반환값:\", 새체력, 새아이템)\n",
    "print(\"원본값:\", 체력, 아이템목록)\n",
    "새체력, 새아이템 = 아이템획득(체력, 아이템목록)\n",
    "print(\"아이템 획득 후:\")\n",
    "print(\"반환값:\", 새체력, 새아이템)\n",
    "print(\"원본값:\", 체력, 아이템목록)\n"
   ]
  },
  {
   "cell_type": "code",
   "execution_count": 9,
   "metadata": {},
   "outputs": [
    {
     "name": "stdout",
     "output_type": "stream",
     "text": [
      "\n",
      "처음: 1001 ['파이썬 기초', '자바 기초']\n",
      "도서 반납 후:\n",
      "반환된 책번호: 1002\n",
      "현재 상태: 1001 ['C++ 기초']\n",
      "도서 대출 후:\n",
      "반환된 대출목록: ['C++ 기초', '자바스크립트 기초']\n",
      "현재 상태: 1001 ['C++ 기초']\n"
     ]
    }
   ],
   "source": [
    "# 퀴즈 4: 도서관 책 관리\n",
    "책번호 = 1001\n",
    "대출목록 = ['파이썬 기초', '자바 기초']\n",
    "\n",
    "def 도서반납(book_id, books):\n",
    "    book_id = 1002\n",
    "    books.clear()\n",
    "    books.append('C++ 기초')\n",
    "    return book_id\n",
    "\n",
    "def 도서대출(book_id, books):\n",
    "    book_id = 1003\n",
    "    temp_books = books.copy()  # 리스트 복사\n",
    "    temp_books.append('자바스크립트 기초')\n",
    "    return temp_books\n",
    "\n",
    "print(\"\\n처음:\", 책번호, 대출목록)\n",
    "새책번호 = 도서반납(책번호, 대출목록)\n",
    "print(\"도서 반납 후:\")\n",
    "print(\"반환된 책번호:\", 새책번호)\n",
    "print(\"현재 상태:\", 책번호, 대출목록)\n",
    "새대출목록 = 도서대출(책번호, 대출목록)\n",
    "print(\"도서 대출 후:\")\n",
    "print(\"반환된 대출목록:\", 새대출목록)\n",
    "print(\"현재 상태:\", 책번호, 대출목록)"
   ]
  },
  {
   "cell_type": "code",
   "execution_count": 10,
   "metadata": {},
   "outputs": [
    {
     "name": "stdout",
     "output_type": "stream",
     "text": [
      "\n",
      "=== 처음 상태 ===\n",
      "메뉴: 김치찌개\n",
      "식수: 100\n",
      "현황: {'조리완료': ['김치찌개', '된장찌개'], '배식중': [], '배식완료': []}\n",
      "\n",
      "=== 메뉴 변경 시도 ===\n",
      "[메뉴 변경 함수 내부]\n",
      "메뉴: 된장찌개\n",
      "식수: 150\n",
      "현황: {'조리완료': ['된장찌개'], '배식중': [], '배식완료': []}\n",
      "\n",
      "=== 메뉴 변경 후 상태 ===\n",
      "메뉴: 김치찌개\n",
      "식수: 100\n",
      "현황: {'조리완료': ['김치찌개', '된장찌개'], '배식중': [], '배식완료': []}\n",
      "\n",
      "=== 배식 시작 ===\n",
      "[배식 시작 함수 내부]\n",
      "메뉴: 비빔밥\n",
      "식수: 110\n",
      "현황: {'조리완료': ['된장찌개'], '배식중': ['김치찌개'], '배식완료': []}\n",
      "\n",
      "=== 배식 시작 후 상태 ===\n",
      "메뉴: 김치찌개\n",
      "식수: 100\n",
      "현황: {'조리완료': ['된장찌개'], '배식중': ['김치찌개'], '배식완료': []}\n",
      "\n",
      "=== 배식 완료 ===\n",
      "\n",
      "=== 배식 완료 후 상태 ===\n",
      "메뉴: 김치찌개\n",
      "식수: 100\n",
      "원본 현황: {'조리완료': ['된장찌개'], '배식중': [], '배식완료': ['김치찌개']}\n",
      "복사된 현황: {'조리완료': ['된장찌개'], '배식중': [], '배식완료': ['김치찌개']}\n"
     ]
    }
   ],
   "source": [
    "# 학교 급식실 시나리오\n",
    "오늘의_메뉴 = \"김치찌개\"\n",
    "식수_인원 = 100\n",
    "배식_현황 = {\n",
    "    \"조리완료\": [\"김치찌개\", \"된장찌개\"],\n",
    "    \"배식중\": [],\n",
    "    \"배식완료\": []\n",
    "}\n",
    "\n",
    "def 메뉴_변경(menu, count, status):\n",
    "    # 불변 객체 변경 시도\n",
    "    menu = \"된장찌개\"\n",
    "    count = 150\n",
    "    # 가변 객체 새로운 할당\n",
    "    status = {\n",
    "        \"조리완료\": [\"된장찌개\"],\n",
    "        \"배식중\": [],\n",
    "        \"배식완료\": []\n",
    "    }\n",
    "    print(f\"[메뉴 변경 함수 내부]\")\n",
    "    print(f\"메뉴: {menu}\")\n",
    "    print(f\"식수: {count}\")\n",
    "    print(f\"현황: {status}\")\n",
    "\n",
    "def 배식_시작(menu, count, status):\n",
    "    # 불변 객체 변경 시도\n",
    "    menu = \"비빔밥\"\n",
    "    count += 10\n",
    "    # 가변 객체 수정\n",
    "    첫번째_메뉴 = status[\"조리완료\"].pop(0)  # 첫 번째 메뉴 제거\n",
    "    status[\"배식중\"].append(첫번째_메뉴)     # 배식중으로 이동\n",
    "    print(f\"[배식 시작 함수 내부]\")\n",
    "    print(f\"메뉴: {menu}\")\n",
    "    print(f\"식수: {count}\")\n",
    "    print(f\"현황: {status}\")\n",
    "\n",
    "def 배식_완료(menu, count, status):\n",
    "    # 딕셔너리의 리스트 조작\n",
    "    배식중_메뉴 = status[\"배식중\"].pop(0)    # 배식중 메뉴 제거\n",
    "    status[\"배식완료\"].append(배식중_메뉴)   # 배식완료로 이동\n",
    "    return status.copy()  # 현황 복사본 반환\n",
    "\n",
    "print(\"\\n=== 처음 상태 ===\")\n",
    "print(f\"메뉴: {오늘의_메뉴}\")\n",
    "print(f\"식수: {식수_인원}\")\n",
    "print(f\"현황: {배식_현황}\")\n",
    "\n",
    "print(\"\\n=== 메뉴 변경 시도 ===\")\n",
    "메뉴_변경(오늘의_메뉴, 식수_인원, 배식_현황)\n",
    "print(\"\\n=== 메뉴 변경 후 상태 ===\")\n",
    "print(f\"메뉴: {오늘의_메뉴}\")\n",
    "print(f\"식수: {식수_인원}\")\n",
    "print(f\"현황: {배식_현황}\")\n",
    "\n",
    "print(\"\\n=== 배식 시작 ===\")\n",
    "배식_시작(오늘의_메뉴, 식수_인원, 배식_현황)\n",
    "print(\"\\n=== 배식 시작 후 상태 ===\")\n",
    "print(f\"메뉴: {오늘의_메뉴}\")\n",
    "print(f\"식수: {식수_인원}\")\n",
    "print(f\"현황: {배식_현황}\")\n",
    "\n",
    "print(\"\\n=== 배식 완료 ===\")\n",
    "새로운_현황 = 배식_완료(오늘의_메뉴, 식수_인원, 배식_현황)\n",
    "print(\"\\n=== 배식 완료 후 상태 ===\")\n",
    "print(f\"메뉴: {오늘의_메뉴}\")\n",
    "print(f\"식수: {식수_인원}\")\n",
    "print(f\"원본 현황: {배식_현황}\")\n",
    "print(f\"복사된 현황: {새로운_현황}\")"
   ]
  },
  {
   "cell_type": "code",
   "execution_count": 39,
   "metadata": {},
   "outputs": [
    {
     "name": "stdout",
     "output_type": "stream",
     "text": [
      "[1, 2, 3, 4, 5, 6, 7, 8, 9]\n"
     ]
    }
   ],
   "source": [
    "def flatten(data):\n",
    "    output = []\n",
    "    for item in data:\n",
    "        if isinstance(item, list):\n",
    "            output.extend(flatten(item))\n",
    "        else:\n",
    "            output.append(item)\n",
    "    return output\n",
    "\n",
    "\n",
    "data = [[1, 2, 3], [4, [5, 6]], 7, [8, 9]]\n",
    "print(flatten(data))"
   ]
  },
  {
   "cell_type": "code",
   "execution_count": 40,
   "metadata": {},
   "outputs": [
    {
     "name": "stdout",
     "output_type": "stream",
     "text": [
      "[1, 2, 3, 4, 5, 6, 7, 8, 9]\n"
     ]
    }
   ],
   "source": [
    "def flatten(data):\n",
    "    if not data:\n",
    "        return []\n",
    "    if isinstance(data[0], list):\n",
    "        return flatten(data[0]) + flatten(data[1:])\n",
    "    return [data[0]] + flatten(data[1:])\n",
    "\n",
    "data = [[1, 2, 3], [4, [5, 6]], 7, [8, 9]]\n",
    "print(flatten(data))"
   ]
  },
  {
   "cell_type": "code",
   "execution_count": null,
   "metadata": {},
   "outputs": [],
   "source": []
  }
 ],
 "metadata": {
  "kernelspec": {
   "display_name": "base",
   "language": "python",
   "name": "python3"
  },
  "language_info": {
   "codemirror_mode": {
    "name": "ipython",
    "version": 3
   },
   "file_extension": ".py",
   "mimetype": "text/x-python",
   "name": "python",
   "nbconvert_exporter": "python",
   "pygments_lexer": "ipython3",
   "version": "3.12.4"
  }
 },
 "nbformat": 4,
 "nbformat_minor": 2
}
