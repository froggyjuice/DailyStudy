{
 "cells": [
  {
   "cell_type": "code",
   "execution_count": 1,
   "metadata": {},
   "outputs": [
    {
     "name": "stdout",
     "output_type": "stream",
     "text": [
      "안녕하세요, 홍길동님!\n",
      "9\n",
      "27\n",
      "15\n",
      "{'name': '김철수', 'age': 30, 'city': '서울'}\n",
      "20\n",
      "8\n"
     ]
    }
   ],
   "source": [
    "# 1. 기본적인 함수 정의와 호출\n",
    "def greet(name):\n",
    "    \"\"\"\n",
    "    간단한 인사말을 반환하는 함수\n",
    "    \"\"\"\n",
    "    return f\"안녕하세요, {name}님!\"\n",
    "\n",
    "# 2. 기본 매개변수(Default Parameters)\n",
    "def power(base, exponent=2):\n",
    "    \"\"\"\n",
    "    주어진 수를 제곱하는 함수 (기본값으로 2제곱)\n",
    "    \"\"\"\n",
    "    return base ** exponent\n",
    "\n",
    "# 3. 가변 인자 함수 (Variable Arguments)\n",
    "def sum_all(*args):\n",
    "    \"\"\"\n",
    "    가변 개수의 인자를 모두 더하는 함수\n",
    "    \"\"\"\n",
    "    return sum(args)\n",
    "\n",
    "# 4. 키워드 인자 함수 (Keyword Arguments)\n",
    "def create_profile(**kwargs):\n",
    "    \"\"\"\n",
    "    키워드 인자로 프로필 사전 생성\n",
    "    \"\"\"\n",
    "    return kwargs\n",
    "\n",
    "# 5. 람다 함수 (익명 함수)\n",
    "multiply = lambda x, y: x * y\n",
    "\n",
    "# 6. 중첩 함수 (Nested Function)\n",
    "def outer_function(x):\n",
    "    \"\"\"\n",
    "    내부 함수를 포함하는 외부 함수\n",
    "    \"\"\"\n",
    "    def inner_function(y):\n",
    "        return x + y\n",
    "    return inner_function\n",
    "\n",
    "# 함수 사용 예시\n",
    "def main():\n",
    "    # 1. 기본 함수 호출\n",
    "    print(greet(\"홍길동\"))  # 출력: 안녕하세요, 홍길동님!\n",
    "\n",
    "    # 2. 기본 매개변수 사용\n",
    "    print(power(3))       # 출력: 9 (3의 2제곱)\n",
    "    print(power(3, 3))    # 출력: 27 (3의 3제곱)\n",
    "\n",
    "    # 3. 가변 인자 함수 사용\n",
    "    print(sum_all(1, 2, 3, 4, 5))  # 출력: 15\n",
    "\n",
    "    # 4. 키워드 인자 함수 사용\n",
    "    profile = create_profile(name=\"김철수\", age=30, city=\"서울\")\n",
    "    print(profile)  # 출력: {'name': '김철수', 'age': 30, 'city': '서울'}\n",
    "\n",
    "    # 5. 람다 함수 사용\n",
    "    print(multiply(4, 5))  # 출력: 20\n",
    "\n",
    "    # 6. 중첩 함수 사용\n",
    "    add_five = outer_function(5)\n",
    "    print(add_five(3))    # 출력: 8\n",
    "\n",
    "if __name__ == \"__main__\":\n",
    "    main()"
   ]
  },
  {
   "cell_type": "code",
   "execution_count": 3,
   "metadata": {},
   "outputs": [
    {
     "name": "stdout",
     "output_type": "stream",
     "text": [
      "3150\n"
     ]
    }
   ],
   "source": [
    "def mul(*values):\n",
    "    output = 1\n",
    "    for i in values:\n",
    "        output *= i\n",
    "    return output\n",
    "\n",
    "print(mul(5, 7, 9, 10))\n"
   ]
  },
  {
   "cell_type": "code",
   "execution_count": 5,
   "metadata": {},
   "outputs": [
    {
     "name": "stdout",
     "output_type": "stream",
     "text": [
      "20\n",
      "[1, 2, 3, 4, 5, 6, 7, 8]\n"
     ]
    }
   ],
   "source": [
    "a = 10\n",
    "b = [1, 2, 3, 4]\n",
    "\n",
    "def function():\n",
    "    a = 20\n",
    "    b.extend([5, 6, 7, 8])\n",
    "    print(a)\n",
    "    print(b)\n",
    "function()"
   ]
  },
  {
   "cell_type": "code",
   "execution_count": null,
   "metadata": {},
   "outputs": [],
   "source": []
  }
 ],
 "metadata": {
  "kernelspec": {
   "display_name": "base",
   "language": "python",
   "name": "python3"
  },
  "language_info": {
   "codemirror_mode": {
    "name": "ipython",
    "version": 3
   },
   "file_extension": ".py",
   "mimetype": "text/x-python",
   "name": "python",
   "nbconvert_exporter": "python",
   "pygments_lexer": "ipython3",
   "version": "3.12.4"
  }
 },
 "nbformat": 4,
 "nbformat_minor": 2
}
