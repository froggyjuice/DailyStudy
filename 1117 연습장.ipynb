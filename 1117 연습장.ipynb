{
 "cells": [
  {
   "cell_type": "code",
   "execution_count": null,
   "metadata": {},
   "outputs": [
    {
     "name": "stdout",
     "output_type": "stream",
     "text": [
      "['aaaaa', 'dddd', 'gffff', 'hrh', 'vvvv']\n",
      "adghvadfrvadfhvadfvaf\n"
     ]
    }
   ],
   "source": [
    "# 입력데이터\n",
    "lines = []\n",
    "for _ in range(5):\n",
    "    line = input()\n",
    "    lines.append(line)\n",
    "\n",
    "# 최대 길이 계산\n",
    "max_length = max(len(line) for line in lines)\n",
    "\n",
    "# 2차원 리스트로 변환 (빈 문자는 \" \" 으로 채움 -- ljust(max_length))\n",
    "grid = []\n",
    "for line in lines:\n",
    "    grid.append(list(line.ljust(max_length, \" \")))\n",
    "\n",
    "# 결과를 저장할 리스트\n",
    "result = []\n",
    "\n",
    "# 세로로 읽기\n",
    "for col in range(max_length):\n",
    "    for row in range(len(grid)):\n",
    "        if grid[row][col] != \" \":\n",
    "            result.append(grid[row][col])\n",
    "\n",
    "print(\"\".join(result))"
   ]
  },
  {
   "cell_type": "code",
   "execution_count": null,
   "metadata": {},
   "outputs": [
    {
     "name": "stdout",
     "output_type": "stream",
     "text": [
      "[0, 0, 0, 0, 0, 0, 0, 0, 0, 0, 0, 0, 0, 0, 0, 0, 0, 0, 0, 0]\n",
      "[0, 0, 0, 0, 0, 0, 0, 0, 0, 0, 0, 0, 0, 0, 0, 0, 0, 0, 0, 0]\n",
      "[0, 0, 0, 0, 0, 0, 0, 0, 0, 0, 0, 0, 0, 0, 0, 0, 0, 0, 0, 0]\n",
      "[0, 0, 0, 0, 0, 0, 0, 1, 1, 1, 1, 1, 1, 1, 1, 1, 1, 0, 0, 0]\n",
      "[0, 0, 0, 0, 0, 0, 0, 1, 1, 1, 1, 1, 1, 1, 1, 1, 1, 0, 0, 0]\n",
      "[0, 0, 0, 0, 0, 0, 0, 1, 1, 1, 1, 1, 1, 1, 1, 1, 1, 0, 0, 0]\n",
      "[0, 0, 0, 0, 0, 0, 0, 1, 1, 1, 1, 1, 1, 1, 1, 1, 1, 0, 0, 0]\n",
      "[0, 0, 0, 0, 0, 0, 0, 1, 1, 1, 1, 1, 1, 1, 1, 1, 1, 0, 0, 0]\n",
      "[0, 0, 0, 0, 0, 0, 0, 1, 1, 1, 1, 1, 1, 1, 1, 1, 1, 0, 0, 0]\n",
      "[0, 0, 0, 0, 0, 0, 0, 1, 1, 1, 1, 1, 1, 1, 1, 1, 1, 0, 0, 0]\n",
      "[0, 0, 0, 0, 0, 0, 0, 1, 1, 1, 1, 1, 1, 1, 1, 1, 1, 0, 0, 0]\n",
      "[0, 0, 0, 0, 0, 0, 0, 1, 1, 1, 1, 1, 1, 1, 1, 1, 1, 0, 0, 0]\n",
      "[0, 0, 0, 0, 0, 0, 0, 1, 1, 1, 1, 1, 1, 1, 1, 1, 1, 0, 0, 0]\n",
      "[0, 0, 0, 0, 0, 0, 0, 0, 0, 0, 0, 0, 0, 0, 0, 0, 0, 0, 0, 0]\n",
      "[0, 0, 0, 0, 0, 0, 0, 0, 0, 0, 0, 0, 0, 0, 0, 0, 0, 0, 0, 0]\n",
      "[0, 0, 0, 0, 0, 0, 0, 0, 0, 0, 0, 0, 0, 0, 0, 0, 0, 0, 0, 0]\n",
      "[0, 0, 0, 0, 0, 0, 0, 0, 0, 0, 0, 0, 0, 0, 0, 0, 0, 0, 0, 0]\n",
      "[0, 0, 0, 0, 0, 0, 0, 0, 0, 0, 0, 0, 0, 0, 0, 0, 0, 0, 0, 0]\n",
      "[0, 0, 0, 0, 0, 0, 0, 0, 0, 0, 0, 0, 0, 0, 0, 0, 0, 0, 0, 0]\n",
      "[0, 0, 0, 0, 0, 0, 0, 0, 0, 0, 0, 0, 0, 0, 0, 0, 0, 0, 0, 0]\n"
     ]
    }
   ],
   "source": [
    "# 100x100 크기의 도화지\n",
    "canvas = [[0 for _ in range(100)] for _ in range(100)]\n",
    "\n",
    "# 예: (3, 7) 위치에 색종이를 붙인 경우\n",
    "# 색종이는 10x10 크기이므로 (3, 7)부터 (12, 16)까지 덮입니다.\n",
    "for i in range(3, 13):  # 세로 범위\n",
    "    for j in range(7, 17):  # 가로 범위\n",
    "        canvas[i][j] = 1  # 색종이가 붙은 영역을 1로 표시\n",
    "\n",
    "# 도화지 출력 (테스트용으로 작은 도화지로 확인)\n",
    "for row in canvas[:20]:  # 처음 20줄만 출력\n",
    "    print(row[:20])  # 처음 20칸만 출력\n"
   ]
  },
  {
   "cell_type": "code",
   "execution_count": 9,
   "metadata": {},
   "outputs": [
    {
     "name": "stdout",
     "output_type": "stream",
     "text": [
      "[[0 0 0 0 0 0 0 0 0 0 0 0 0 0 0 0 0 0 0 0]\n",
      " [0 0 0 0 0 0 0 0 0 0 0 0 0 0 0 0 0 0 0 0]\n",
      " [0 0 0 0 0 0 0 0 0 0 0 0 0 0 0 0 0 0 0 0]\n",
      " [0 0 0 0 0 0 0 1 1 1 1 1 1 1 1 1 1 0 0 0]\n",
      " [0 0 0 0 0 0 0 1 1 1 1 1 1 1 1 1 1 0 0 0]\n",
      " [0 0 0 0 0 0 0 1 1 1 1 1 1 1 1 1 1 0 0 0]\n",
      " [0 0 0 0 0 0 0 1 1 1 1 1 1 1 1 1 1 0 0 0]\n",
      " [0 0 0 0 0 0 0 1 1 1 1 1 1 1 1 1 1 0 0 0]\n",
      " [0 0 0 0 0 0 0 1 1 1 1 1 1 1 1 1 1 0 0 0]\n",
      " [0 0 0 0 0 0 0 1 1 1 1 1 1 1 1 1 1 0 0 0]\n",
      " [0 0 0 0 0 0 0 1 1 1 1 1 1 1 1 1 1 0 0 0]\n",
      " [0 0 0 0 0 0 0 1 1 1 1 1 1 1 1 1 1 0 0 0]\n",
      " [0 0 0 0 0 0 0 1 1 1 1 1 1 1 1 1 1 0 0 0]\n",
      " [0 0 0 0 0 0 0 0 0 0 0 0 0 0 0 0 0 0 0 0]\n",
      " [0 0 0 0 0 0 0 0 0 0 0 0 0 0 0 0 0 0 0 0]\n",
      " [0 0 0 0 0 0 0 0 0 0 0 0 0 0 0 0 0 0 0 0]\n",
      " [0 0 0 0 0 0 0 0 0 0 0 0 0 0 0 0 0 0 0 0]\n",
      " [0 0 0 0 0 0 0 0 0 0 0 0 0 0 0 0 0 0 0 0]\n",
      " [0 0 0 0 0 0 0 0 0 0 0 0 0 0 0 0 0 0 0 0]\n",
      " [0 0 0 0 0 0 0 0 0 0 0 0 0 0 0 0 0 0 0 0]]\n"
     ]
    }
   ],
   "source": [
    "import numpy as np\n",
    "\n",
    "# 100x100 크기의 도화지 생성 (초기값 0)\n",
    "canvas = np.zeros((100, 100), dtype=int)\n",
    "\n",
    "# 예: (3, 7) 위치에 색종이를 붙인 경우\n",
    "# 색종이는 10x10 크기이므로 (3, 7)부터 (12, 16)까지 덮습니다.\n",
    "x, y = 3, 7  # 색종이의 왼쪽 아래 좌표\n",
    "canvas[x:x+10, y:y+10] = 1  # 해당 영역을 1로 설정\n",
    "\n",
    "# 도화지 출력 (테스트용으로 작은 영역 출력)\n",
    "print(canvas[:20, :20])  # 처음 20x20 영역만 출력\n"
   ]
  },
  {
   "cell_type": "code",
   "execution_count": 18,
   "metadata": {},
   "outputs": [
    {
     "name": "stdout",
     "output_type": "stream",
     "text": [
      "260\n"
     ]
    }
   ],
   "source": [
    "import numpy as np\n",
    "\n",
    "# 100x100 크기의 도화지 생성 (초기값 0)\n",
    "canvas = np.zeros((100, 100), dtype=int)\n",
    "\n",
    "# 색종이 붙이기\n",
    "N = int(input())\n",
    "for _ in range(N):\n",
    "    x, y = map(int, input().split())\n",
    "    canvas[x:x+10, y:y+10] = 1  # 해당 영역을 1로 설정\n",
    "\n",
    "# 검은 영역의 합\n",
    "print(np.sum(canvas))"
   ]
  },
  {
   "cell_type": "code",
   "execution_count": 21,
   "metadata": {},
   "outputs": [
    {
     "ename": "TypeError",
     "evalue": "list indices must be integers or slices, not tuple",
     "output_type": "error",
     "traceback": [
      "\u001b[1;31m---------------------------------------------------------------------------\u001b[0m",
      "\u001b[1;31mTypeError\u001b[0m                                 Traceback (most recent call last)",
      "Cell \u001b[1;32mIn[21], line 3\u001b[0m\n\u001b[0;32m      1\u001b[0m \u001b[38;5;66;03m# 2차원 배열로 초기화\u001b[39;00m\n\u001b[0;32m      2\u001b[0m canvas \u001b[38;5;241m=\u001b[39m [[\u001b[38;5;241m0\u001b[39m] \u001b[38;5;241m*\u001b[39m \u001b[38;5;241m100\u001b[39m \u001b[38;5;28;01mfor\u001b[39;00m _ \u001b[38;5;129;01min\u001b[39;00m \u001b[38;5;28mrange\u001b[39m(\u001b[38;5;241m100\u001b[39m)]\n\u001b[1;32m----> 3\u001b[0m \u001b[38;5;28mprint\u001b[39m(\u001b[43mcanvas\u001b[49m\u001b[43m[\u001b[49m\u001b[43m:\u001b[49m\u001b[38;5;241;43m20\u001b[39;49m\u001b[43m,\u001b[49m\u001b[43m:\u001b[49m\u001b[38;5;241;43m20\u001b[39;49m\u001b[43m]\u001b[49m)\n\u001b[0;32m      5\u001b[0m \u001b[38;5;66;03m# 색종이 붙이기\u001b[39;00m\n\u001b[0;32m      6\u001b[0m N \u001b[38;5;241m=\u001b[39m \u001b[38;5;28mint\u001b[39m(\u001b[38;5;28minput\u001b[39m())\n",
      "\u001b[1;31mTypeError\u001b[0m: list indices must be integers or slices, not tuple"
     ]
    }
   ],
   "source": [
    "# 2차원 배열로 초기화\n",
    "canvas = [[0] * 100 for _ in range(100)]\n",
    "print(canvas[:20,:20])\n",
    "\n",
    "# 색종이 붙이기\n",
    "N = int(input())\n",
    "for _ in range(N):\n",
    "    x, y = map(int, input().split())\n",
    "    for i in range(x, min(x + 10, 100)):\n",
    "        for j in range(y, min(y + 10, 100)):\n",
    "            canvas[i][j] = 1\n",
    "\n",
    "# 검은 영역의 합\n",
    "black_area = sum(sum(row) for row in canvas)\n",
    "print(black_area)\n"
   ]
  },
  {
   "cell_type": "code",
   "execution_count": 31,
   "metadata": {},
   "outputs": [
    {
     "name": "stdout",
     "output_type": "stream",
     "text": [
      "<3, 6, 2, 7, 5, 1, 4>\n"
     ]
    }
   ],
   "source": [
    "def josephus(n, k):\n",
    "    people = list(range(1, n + 1))  # 1번부터 n번까지 사람\n",
    "    result = []\n",
    "    idx = 0  # 시작 인덱스\n",
    "\n",
    "    while people:\n",
    "        idx = (idx + k -1) % len(people)  # k번째 사람의 인덱스\n",
    "        result.append(people.pop(idx))  # 해당 사람 제거하고 결과에 추가\n",
    "\n",
    "    return result\n",
    "\n",
    "# 예제: 7명 중 3번째 사람을 계속 제거\n",
    "n, k = map(int, input().split())\n",
    "print(\"<\" + \", \".join(map(str, josephus(n, k))) + \">\")\n"
   ]
  },
  {
   "cell_type": "code",
   "execution_count": null,
   "metadata": {},
   "outputs": [],
   "source": [
    "matrix = []\n",
    "\n",
    "for _ in range(9):\n",
    "    row = list(map(int, input().split()))\n",
    "    matrix.append(row)\n",
    "\n",
    "maximum = matrix[0][0]\n",
    "max_row, max_col = 1, 1\n",
    "\n",
    "for i in range(len(matrix)):\n",
    "    for j in range(len(matrix[i])):\n",
    "        if matrix[i][j] > maximum:\n",
    "            maximum = matrix[i][j]\n",
    "            max_row, max_col = i + 1, j +1\n",
    "\n",
    "print(maximum)\n",
    "print(max_row, max_col)\n"
   ]
  },
  {
   "cell_type": "code",
   "execution_count": null,
   "metadata": {},
   "outputs": [
    {
     "name": "stdout",
     "output_type": "stream",
     "text": [
      "7 -1\n"
     ]
    }
   ],
   "source": [
    "혜정 = input()\n",
    "left_index = 0\n",
    "right_index = 0\n",
    "\n",
    "while left_index < \n",
    "left_arm =\n",
    "\n",
    "right_arm =\n",
    "\n",
    "\n",
    "\n",
    "print(left_fist, right_fist)\n",
    "\n"
   ]
  },
  {
   "cell_type": "code",
   "execution_count": 35,
   "metadata": {},
   "outputs": [
    {
     "name": "stdout",
     "output_type": "stream",
     "text": [
      "현재 글자: a\n",
      "현재 글자: b\n",
      "현재 글자: c\n",
      "여는 괄호 '(' 발견, 반복을 중지합니다.\n",
      "닫는 괄호 ')' 발견, 반복을 다시 시작합니다.\n",
      "현재 글자: g\n",
      "현재 글자: h\n",
      "현재 글자: i\n"
     ]
    }
   ],
   "source": [
    "text = \"abc(def)ghi\"\n",
    "\n",
    "# 인덱스를 이용하여 문자열 순회\n",
    "index = 0\n",
    "length = len(text)\n",
    "in_brackets = False  # 괄호 내부에 있는지 여부를 추적\n",
    "\n",
    "while index < length:\n",
    "    char = text[index]\n",
    "    \n",
    "    if char == \"(\":\n",
    "        print(\"여는 괄호 '(' 발견, 반복을 중지합니다.\")\n",
    "        in_brackets = True\n",
    "        index += 1\n",
    "        continue  # 괄호가 열릴 때 반복을 빠져나감\n",
    "    \n",
    "    if char == \")\" and in_brackets:\n",
    "        print(\"닫는 괄호 ')' 발견, 반복을 다시 시작합니다.\")\n",
    "        in_brackets = False\n",
    "        index += 1\n",
    "        continue  # 괄호가 닫힐 때 반복 재개\n",
    "    \n",
    "    if not in_brackets:\n",
    "        print(f\"현재 글자: {char}\")\n",
    "    \n",
    "    index += 1\n"
   ]
  },
  {
   "cell_type": "code",
   "execution_count": 40,
   "metadata": {},
   "outputs": [
    {
     "name": "stdout",
     "output_type": "stream",
     "text": [
      "4 3\n"
     ]
    }
   ],
   "source": [
    "text = input()\n",
    "index = 0\n",
    "length = len(text)\n",
    "in_brackets = False  # 괄호 내부 상태 추적\n",
    "left = False  # 'abc' 처리 상태\n",
    "right = False  # 'ghi' 처리 상태\n",
    "count_left = 0\n",
    "count_right = 0\n",
    "\n",
    "while index < length:\n",
    "    char = text[index]\n",
    "    \n",
    "    if char == \"(\":\n",
    "        in_brackets = True\n",
    "        index += 1\n",
    "        continue\n",
    "\n",
    "    if char == \")\":\n",
    "        in_brackets = False\n",
    "        left = True  # 괄호 이전 내용 처리 완료로 표시\n",
    "        index += 1\n",
    "        continue\n",
    "\n",
    "    if not in_brackets and not left:\n",
    "        # 괄호 이전의 글자 처리 \n",
    "        if char == \"@\":\n",
    "            count_left += 1\n",
    "    \n",
    "    elif not in_brackets and left and not right:\n",
    "        # 괄호 이후의 글자 처리 \n",
    "        if char == \"@\":\n",
    "            count_right += 1\n",
    "        if index == length - 1:  # 마지막 글자 처리 시 상태 변경\n",
    "            right = True\n",
    "\n",
    "    index += 1\n",
    "\n",
    "print(count_left, count_right)"
   ]
  },
  {
   "cell_type": "code",
   "execution_count": null,
   "metadata": {},
   "outputs": [],
   "source": [
    "text = input()\n",
    "in_brackets = False\n",
    "left_complete = False  # 괄호 이전 처리 완료 상태\n",
    "count_left = 0\n",
    "count_right = 0\n",
    "\n",
    "for char in text:\n",
    "    if char == \"(\":\n",
    "        in_brackets = True\n",
    "    elif char == \")\":\n",
    "        in_brackets = False\n",
    "        left_complete = True\n",
    "    elif not in_brackets and not left_complete:\n",
    "        if char == \"@\":\n",
    "            count_left += 1\n",
    "    elif not in_brackets and left_complete:\n",
    "        if char == \"@\":\n",
    "            count_right += 1\n",
    "\n",
    "print(count_left, count_right)\n"
   ]
  }
 ],
 "metadata": {
  "kernelspec": {
   "display_name": "base",
   "language": "python",
   "name": "python3"
  },
  "language_info": {
   "codemirror_mode": {
    "name": "ipython",
    "version": 3
   },
   "file_extension": ".py",
   "mimetype": "text/x-python",
   "name": "python",
   "nbconvert_exporter": "python",
   "pygments_lexer": "ipython3",
   "version": "3.12.4"
  }
 },
 "nbformat": 4,
 "nbformat_minor": 2
}
