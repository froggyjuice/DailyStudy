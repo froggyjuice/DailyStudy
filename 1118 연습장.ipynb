{
 "cells": [
  {
   "cell_type": "code",
   "execution_count": 6,
   "metadata": {},
   "outputs": [
    {
     "name": "stdout",
     "output_type": "stream",
     "text": [
      "2\n"
     ]
    }
   ],
   "source": [
    "N = int(input())\n",
    "\n",
    "def sugar_bag(N):\n",
    "    # N = 3 * i + 5 * j --> i + j 가 최소가 되도록한다.\n",
    "    # (1) 5로 나누어 나머지 1 -> 몫 -1, 3키로 봉지 2개\n",
    "    case = N % 5\n",
    "    if case == 1:\n",
    "        j = N // 5\n",
    "        bag5 = j - 1\n",
    "        bag3 = 2\n",
    "        bag_sum = bag5 + bag3\n",
    "        return bag_sum\n",
    "    # (2) 나머지 2 -> -1\n",
    "    elif case == 2:\n",
    "        j = N // 5\n",
    "        return -1\n",
    "    # (3) 나머지 3 -> 3키로 봉지 1개\n",
    "    elif case == 3:\n",
    "        j = N // 5\n",
    "        bag5 = j\n",
    "        bag3 = 1\n",
    "        bag_sum = bag5 + bag3\n",
    "        return bag_sum    \n",
    "    # (4) 나머지 4 -> 몫 -1, 3키로 봉지 3개\n",
    "    elif case == 4:\n",
    "        j = N // 5\n",
    "        bag5 = j -1\n",
    "        bag3 = 3\n",
    "        bag_sum = bag5 + bag3\n",
    "        return bag_sum\n",
    "    # (5) 나머지 0 -> 5키로 봉지 j개 \n",
    "    elif case == 0:\n",
    "        j = N // 5\n",
    "        bag5 = j\n",
    "        bag3 = 0\n",
    "        bag_sum = bag5 + bag3\n",
    "        return bag_sum\n",
    "\n",
    "print(sugar_bag(N))\n"
   ]
  },
  {
   "cell_type": "code",
   "execution_count": 9,
   "metadata": {},
   "outputs": [
    {
     "name": "stdout",
     "output_type": "stream",
     "text": [
      "2\n"
     ]
    }
   ],
   "source": [
    "N = int(input())\n",
    "\n",
    "def sugar_bag(N):\n",
    "    # 최대한 5kg 봉지로 채우고, 나머지를 3kg 봉지로 채운다.\n",
    "    for bag5 in range(N // 5, -1, -1):  # 5kg 봉지 개수를 줄여가며 확인\n",
    "        remainder = N - (bag5 * 5)\n",
    "        if remainder % 3 == 0:  # 나머지가 3으로 나눠떨어지면 해결 가능\n",
    "            bag3 = remainder // 3\n",
    "            return bag5 + bag3\n",
    "    return -1  # 정확히 나눌 수 없는 경우\n",
    "\n",
    "print(sugar_bag(N))\n"
   ]
  },
  {
   "cell_type": "code",
   "execution_count": 13,
   "metadata": {},
   "outputs": [
    {
     "name": "stdout",
     "output_type": "stream",
     "text": [
      "-1\n",
      "-1\n",
      "123\n",
      "123\n",
      "-1\n",
      "-1\n"
     ]
    }
   ],
   "source": [
    "# 스택구현\n",
    "N = int(input())\n",
    "stack = []\n",
    "\n",
    "for _ in range(N):\n",
    "    try:\n",
    "        command = input()\n",
    "        parts = command.split()\n",
    "\n",
    "        if parts[0] == \"push\":\n",
    "            if not len(command) == 1:\n",
    "                value = int(parts[1])\n",
    "                stack.append(value)\n",
    "        elif parts[0] == \"pop\":\n",
    "            if not stack: \n",
    "                print(-1) \n",
    "            else: \n",
    "                print(stack.pop())\n",
    "        elif parts[0] == \"size\":\n",
    "            print(len(stack))\n",
    "        elif parts[0] == \"empty\":\n",
    "            print(1 if not stack else 0)\n",
    "        elif parts[0] == \"top\":\n",
    "            if not stack:\n",
    "                print(-1)\n",
    "            else:\n",
    "                print(stack[-1])\n",
    "    except:\n",
    "        print(\"무언가 잘못되었습니다.\")\n"
   ]
  },
  {
   "cell_type": "code",
   "execution_count": null,
   "metadata": {},
   "outputs": [],
   "source": []
  }
 ],
 "metadata": {
  "kernelspec": {
   "display_name": "base",
   "language": "python",
   "name": "python3"
  },
  "language_info": {
   "codemirror_mode": {
    "name": "ipython",
    "version": 3
   },
   "file_extension": ".py",
   "mimetype": "text/x-python",
   "name": "python",
   "nbconvert_exporter": "python",
   "pygments_lexer": "ipython3",
   "version": "3.12.4"
  }
 },
 "nbformat": 4,
 "nbformat_minor": 2
}
