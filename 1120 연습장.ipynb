{
 "cells": [
  {
   "cell_type": "code",
   "execution_count": 1,
   "metadata": {},
   "outputs": [
    {
     "name": "stdout",
     "output_type": "stream",
     "text": [
      "Bubble Sort 결과: [11, 12, 22, 25, 34, 64, 90]\n"
     ]
    }
   ],
   "source": [
    "def bubble_sort(arr):\n",
    "    n = len(arr)\n",
    "    for i in range(n):\n",
    "        # 마지막 i개의 요소는 이미 정렬된 상태\n",
    "        for j in range(0, n - i - 1):\n",
    "            if arr[j] > arr[j + 1]:\n",
    "                # 요소 교환\n",
    "                arr[j], arr[j + 1] = arr[j + 1], arr[j]\n",
    "    return arr\n",
    "\n",
    "# 테스트\n",
    "data = [64, 34, 25, 12, 22, 11, 90]\n",
    "sorted_data = bubble_sort(data)\n",
    "print(\"Bubble Sort 결과:\", sorted_data)\n"
   ]
  },
  {
   "cell_type": "code",
   "execution_count": 2,
   "metadata": {},
   "outputs": [
    {
     "name": "stdout",
     "output_type": "stream",
     "text": [
      "Insertion Sort 결과: [11, 12, 22, 25, 34, 64, 90]\n"
     ]
    }
   ],
   "source": [
    "def insertion_sort(arr):\n",
    "    for i in range(1, len(arr)):\n",
    "        key = arr[i]\n",
    "        j = i - 1\n",
    "        # 현재 요소(key)를 올바른 위치로 이동\n",
    "        while j >= 0 and key < arr[j]:\n",
    "            arr[j + 1] = arr[j]\n",
    "            j -= 1\n",
    "        arr[j + 1] = key\n",
    "    return arr\n",
    "\n",
    "# 테스트\n",
    "data = [64, 34, 25, 12, 22, 11, 90]\n",
    "sorted_data = insertion_sort(data)\n",
    "print(\"Insertion Sort 결과:\", sorted_data)\n"
   ]
  },
  {
   "cell_type": "code",
   "execution_count": 3,
   "metadata": {},
   "outputs": [
    {
     "name": "stdout",
     "output_type": "stream",
     "text": [
      "Selection Sort 결과: [11, 12, 22, 25, 34, 64, 90]\n"
     ]
    }
   ],
   "source": [
    "def selection_sort(arr):\n",
    "    for i in range(len(arr)):\n",
    "        # 최소값의 인덱스를 찾기\n",
    "        min_index = i\n",
    "        for j in range(i + 1, len(arr)):\n",
    "            if arr[j] < arr[min_index]:\n",
    "                min_index = j\n",
    "        # 최소값을 맨 앞으로 이동\n",
    "        arr[i], arr[min_index] = arr[min_index], arr[i]\n",
    "    return arr\n",
    "\n",
    "# 테스트\n",
    "data = [64, 34, 25, 12, 22, 11, 90]\n",
    "sorted_data = selection_sort(data)\n",
    "print(\"Selection Sort 결과:\", sorted_data)\n"
   ]
  },
  {
   "cell_type": "code",
   "execution_count": 4,
   "metadata": {},
   "outputs": [
    {
     "name": "stdout",
     "output_type": "stream",
     "text": [
      "Merge Sort 결과: [11, 12, 22, 25, 34, 64, 90]\n"
     ]
    }
   ],
   "source": [
    "def merge_sort(arr):\n",
    "    if len(arr) > 1:\n",
    "        mid = len(arr) // 2\n",
    "        left_half = arr[:mid]\n",
    "        right_half = arr[mid:]\n",
    "\n",
    "        # 재귀적으로 두 부분을 정렬\n",
    "        merge_sort(left_half)\n",
    "        merge_sort(right_half)\n",
    "\n",
    "        i = j = k = 0\n",
    "\n",
    "        # 정렬된 두 부분 합치기\n",
    "        while i < len(left_half) and j < len(right_half):\n",
    "            if left_half[i] < right_half[j]:\n",
    "                arr[k] = left_half[i]\n",
    "                i += 1\n",
    "            else:\n",
    "                arr[k] = right_half[j]\n",
    "                j += 1\n",
    "            k += 1\n",
    "\n",
    "        # 남은 요소 추가\n",
    "        while i < len(left_half):\n",
    "            arr[k] = left_half[i]\n",
    "            i += 1\n",
    "            k += 1\n",
    "\n",
    "        while j < len(right_half):\n",
    "            arr[k] = right_half[j]\n",
    "            j += 1\n",
    "            k += 1\n",
    "    return arr\n",
    "\n",
    "# 테스트\n",
    "data = [64, 34, 25, 12, 22, 11, 90]\n",
    "sorted_data = merge_sort(data)\n",
    "print(\"Merge Sort 결과:\", sorted_data)\n"
   ]
  },
  {
   "cell_type": "code",
   "execution_count": 5,
   "metadata": {},
   "outputs": [
    {
     "name": "stdout",
     "output_type": "stream",
     "text": [
      "Quick Sort 결과: [11, 12, 22, 25, 34, 64, 90]\n"
     ]
    }
   ],
   "source": [
    "def quick_sort(arr):\n",
    "    if len(arr) <= 1:\n",
    "        return arr\n",
    "    pivot = arr[len(arr) // 2]\n",
    "    left = [x for x in arr if x < pivot]\n",
    "    middle = [x for x in arr if x == pivot]\n",
    "    right = [x for x in arr if x > pivot]\n",
    "    return quick_sort(left) + middle + quick_sort(right)\n",
    "\n",
    "# 테스트\n",
    "data = [64, 34, 25, 12, 22, 11, 90]\n",
    "sorted_data = quick_sort(data)\n",
    "print(\"Quick Sort 결과:\", sorted_data)\n"
   ]
  },
  {
   "cell_type": "code",
   "execution_count": null,
   "metadata": {},
   "outputs": [],
   "source": [
    "# 좌표 리스트 (예시 데이터)\n",
    "coordinates = [(3, 4), (1, 1), (1, -1), (2, 2), (3, 3)]\n",
    "\n",
    "# x 좌표 기준으로 정렬하되, x가 같으면 y 기준으로 정렬\n",
    "sorted_coordinates = sorted(coordinates, key=lambda coord: (coord[0], coord[1]))\n",
    "\n",
    "print(\"정렬된 좌표:\", sorted_coordinates)\n"
   ]
  },
  {
   "cell_type": "code",
   "execution_count": null,
   "metadata": {},
   "outputs": [
    {
     "name": "stdout",
     "output_type": "stream",
     "text": [
      "1 -1\n",
      "1 1\n",
      "2 2\n",
      "3 3\n",
      "3 4\n"
     ]
    }
   ],
   "source": [
    "N = int(input())\n",
    "\n",
    "coordinate_list = []\n",
    "\n",
    "for _ in range(N):\n",
    "    x, y = map(int, input().split())\n",
    "    coordinate = (x, y)\n",
    "    coordinate_list.append(coordinate)\n",
    "\n",
    "sorted_coordinates = sorted(coordinate_list)\n",
    "\n",
    "for coordinate in sorted_coordinates:\n",
    "    print(coordinate[0], coordinate[1])"
   ]
  },
  {
   "cell_type": "code",
   "execution_count": 12,
   "metadata": {},
   "outputs": [
    {
     "name": "stdout",
     "output_type": "stream",
     "text": [
      "1 -1\n",
      "1 2\n",
      "2 2\n",
      "3 3\n",
      "0 4\n"
     ]
    }
   ],
   "source": [
    "N = int(input())\n",
    "\n",
    "coordinate_list = [tuple(map(int, input().split())) for _ in range(N)]\n",
    "\n",
    "sorted_coordinates = sorted(coordinate_list, key=lambda coord: (coord[1], coord[0]))\n",
    "\n",
    "for x, y in sorted_coordinates:\n",
    "    print(f\"{x} {y}\")"
   ]
  },
  {
   "cell_type": "code",
   "execution_count": 18,
   "metadata": {},
   "outputs": [
    {
     "name": "stdout",
     "output_type": "stream",
     "text": [
      "497\n"
     ]
    }
   ],
   "source": [
    "# 효율적 탐색 ((1) 카드 정렬 (2) M보다 클 경우 조기 중단)\n",
    "N, M = map(int, input().split())\n",
    "\n",
    "cards = list(map(int, input().split()))\n",
    "cards.sort()\n",
    "max_sum = 0\n",
    "\n",
    "for i in range(N - 2):\n",
    "    for j in range(i + 1, N -1):\n",
    "        for k in range(j + 1, N):\n",
    "            current_sum = cards[i] + cards[j] + cards[k]\n",
    "            if current_sum > M:\n",
    "                continue\n",
    "            max_sum = max(max_sum, current_sum)\n",
    "        \n",
    "print(max_sum)"
   ]
  },
  {
   "cell_type": "code",
   "execution_count": null,
   "metadata": {},
   "outputs": [],
   "source": [
    "# 브루트포스 접근 (가능한 모든 카드 조합 탐색 후 조거을 만족하는 최대값 찾기)\n",
    "from itertools import combinations\n",
    "\n",
    "N, M = map(int, input().split())\n",
    "\n",
    "cards = list(map(int, input().split()))\n",
    "\n",
    "card_combinations = combinations(cards, 3)\n",
    "\n",
    "max_sum = 0\n",
    "for combo in card_combinations:\n",
    "    current_sum = sum(combo)\n",
    "    if current_sum <= M:\n",
    "        max_sum = max(max_sum, current_sum)\n",
    "\n",
    "print(max_sum)"
   ]
  },
  {
   "cell_type": "code",
   "execution_count": 22,
   "metadata": {},
   "outputs": [
    {
     "name": "stdout",
     "output_type": "stream",
     "text": [
      "999999901\n"
     ]
    }
   ],
   "source": [
    "# 달팽이\n",
    "\n",
    "import math\n",
    "\n",
    "A, B, V = map(int, input().split())\n",
    "days = math.ceil((V-A)/(A-B)) + 1\n",
    "print(days)\n"
   ]
  },
  {
   "cell_type": "code",
   "execution_count": null,
   "metadata": {},
   "outputs": [],
   "source": [
    "A, B, V = map(int, input().split())\n",
    "current_height = 0\n",
    "days = 0\n",
    "\n",
    "while current_height < V:\n",
    "    days += 1\n",
    "    current_height += A  # 낮 동안 올라감\n",
    "    if current_height >= V:\n",
    "        break\n",
    "    current_height -= B  # 밤에 미끄러짐\n",
    "\n",
    "print(days)\n"
   ]
  }
 ],
 "metadata": {
  "kernelspec": {
   "display_name": "base",
   "language": "python",
   "name": "python3"
  },
  "language_info": {
   "codemirror_mode": {
    "name": "ipython",
    "version": 3
   },
   "file_extension": ".py",
   "mimetype": "text/x-python",
   "name": "python",
   "nbconvert_exporter": "python",
   "pygments_lexer": "ipython3",
   "version": "3.12.4"
  }
 },
 "nbformat": 4,
 "nbformat_minor": 2
}
