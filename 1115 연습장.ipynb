{
 "cells": [
  {
   "cell_type": "code",
   "execution_count": 1,
   "metadata": {},
   "outputs": [
    {
     "name": "stdout",
     "output_type": "stream",
     "text": [
      "0\n"
     ]
    }
   ],
   "source": [
    "def checker(str):\n",
    "    str.split()\n",
    "    for i in range(len(str)):\n",
    "        while i < len(str):\n",
    "            if str[i] == str[i + 1]:\n",
    "                continue\n",
    "            else:\n",
    "                return False\n",
    "    return True\n",
    "\n",
    "N = int(input())\n",
    "\n",
    "\n",
    "count = 0\n",
    "for _ in range(N):\n",
    "    string = input()\n",
    "    if checker(string):\n",
    "        count += 1\n",
    "    else: \n",
    "        continue\n",
    "\n",
    "print(count)"
   ]
  },
  {
   "cell_type": "code",
   "execution_count": null,
   "metadata": {},
   "outputs": [],
   "source": [
    "def checker(s):\n",
    "    seen = set()\n",
    "    prev = None\n",
    "    for char in s:\n",
    "        if char != prev:\n",
    "            if char in seen:\n",
    "                return False\n",
    "            seen.add(char)\n",
    "        prev = char\n",
    "    return True\n",
    "\n",
    "N = int(input())\n",
    "count = 0\n",
    "\n",
    "for _ in range(N):\n",
    "    string = input()\n",
    "    if checker(string):\n",
    "        count += 1\n",
    "\n",
    "print(count)\n"
   ]
  }
 ],
 "metadata": {
  "kernelspec": {
   "display_name": "base",
   "language": "python",
   "name": "python3"
  },
  "language_info": {
   "codemirror_mode": {
    "name": "ipython",
    "version": 3
   },
   "file_extension": ".py",
   "mimetype": "text/x-python",
   "name": "python",
   "nbconvert_exporter": "python",
   "pygments_lexer": "ipython3",
   "version": "3.12.4"
  }
 },
 "nbformat": 4,
 "nbformat_minor": 2
}
