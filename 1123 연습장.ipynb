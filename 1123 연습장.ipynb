{
 "cells": [
  {
   "cell_type": "code",
   "execution_count": 2,
   "metadata": {},
   "outputs": [
    {
     "name": "stdout",
     "output_type": "stream",
     "text": [
      "1\n"
     ]
    }
   ],
   "source": [
    "N = int(input())\n",
    "\n",
    "def make_one(n):\n",
    "    dp = [0] * (n + 1)\n",
    "\n",
    "    for i in range(2, n + 1):\n",
    "        # 기본 연산 (1 빼기)\n",
    "        dp[i] = dp[i - 1] + 1\n",
    "        # 2로 나눌 수 있는 경우\n",
    "        if i % 2 == 0:\n",
    "            dp[i] = min(dp[i], dp[i // 2] + 1)\n",
    "        # 3으로 나눌 수 있는 경우\n",
    "        if i % 3 == 0:\n",
    "            dp[i] = min(dp[i], dp[i // 3] + 1)\n",
    "\n",
    "    return dp[n]\n",
    "\n",
    "# 테스트\n",
    "print(make_one(N))  # 결과: 3 (10 -> 9 -> 3 -> 1)\n"
   ]
  },
  {
   "cell_type": "code",
   "execution_count": null,
   "metadata": {},
   "outputs": [],
   "source": [
    "n = 15\n",
    "dp = [0] * (n + 1)\n",
    "path = [0] * (n + 1)\n",
    "\n",
    "for i in range(2, n + 1):\n",
    "    dp[i] = dp[i - 1] + 1\n",
    "    path[i] = i - 1\n",
    "    if i % 2 == 0 and dp[i // 2] + 1 < dp[i]:\n",
    "        dp[i] = dp[i // 2] + 1\n",
    "        path[i] = i // 2\n",
    "    if i % 3 == 0 and dp[i // 3] + 1 < dp[i]:\n",
    "        dp[i] = dp[i // 3] + 1\n",
    "        path[i] = i // 3\n",
    "\n",
    "# 경로 추적\n",
    "current = n\n",
    "steps = []\n",
    "while current > 0:\n",
    "    steps.append(current)\n",
    "    current = path[current]\n",
    "\n",
    "print(steps)  # [15, 5, 4, 3, 1]\n"
   ]
  },
  {
   "cell_type": "code",
   "execution_count": null,
   "metadata": {},
   "outputs": [
    {
     "data": {
      "text/plain": [
       "75"
      ]
     },
     "execution_count": 1,
     "metadata": {},
     "output_type": "execute_result"
    }
   ],
   "source": [
    "n = int(input())\n",
    "\n",
    "def max_score_with_conditions(score):\n",
    "    n = len(score)\n",
    "    if n == 1:\n",
    "        return score[0]\n",
    "    if n == 2:\n",
    "        return score[0] + score[1]\n",
    "    if n == 3:\n",
    "        return max(score[0] + score[2], score[1] + score[2])\n",
    "\n",
    "    # DP 배열 초기화\n",
    "    dp = [0] * n\n",
    "    dp[0] = score[0]\n",
    "    dp[1] = score[0] + score[1]\n",
    "    dp[2] = max(score[0] + score[2], score[1] + score[2])\n",
    "\n",
    "    # 점화식에 따라 DP 계산\n",
    "    for i in range(3, n):\n",
    "        dp[i] = max(dp[i-2] + score[i], dp[i-3] + score[i-1] + score[i])\n",
    "\n",
    "    return dp[n-1]  # 꼭대기 계단은 반드시 밟아야 함\n",
    "\n",
    "score = []\n",
    "for _ in range(n):\n",
    "    score.append(int(input()))\n",
    "max_score_with_conditions(score) # 주피터 노트북에서는 막줄 프린트가 내재되어있음"
   ]
  },
  {
   "cell_type": "code",
   "execution_count": null,
   "metadata": {},
   "outputs": [],
   "source": [
    "def dfs(graph, start, visited):\n",
    "    visited[start] = True\n",
    "    for neighbor in graph[start]:\n",
    "        if not visited[neighbor]:\n",
    "            dfs(graph, neighbor, visited)\n",
    "\n",
    "# 그래프 생성 및 탐색 실행\n",
    "n = int(input())  # 컴퓨터의 수\n",
    "m = int(input())  # 연결된 쌍의 수\n",
    "graph = [[] for _ in range(n + 1)]\n",
    "\n",
    "for _ in range(m):\n",
    "    a, b = map(int, input().split())\n",
    "    graph[a].append(b)\n",
    "    graph[b].append(a)\n",
    "\n",
    "visited = [False] * (n + 1)\n",
    "dfs(graph, 1, visited)\n",
    "\n",
    "# 방문한 노드 개수 세기 (1번 제외)\n",
    "print(sum(visited) - 1)\n"
   ]
  }
 ],
 "metadata": {
  "kernelspec": {
   "display_name": "base",
   "language": "python",
   "name": "python3"
  },
  "language_info": {
   "codemirror_mode": {
    "name": "ipython",
    "version": 3
   },
   "file_extension": ".py",
   "mimetype": "text/x-python",
   "name": "python",
   "nbconvert_exporter": "python",
   "pygments_lexer": "ipython3",
   "version": "3.12.4"
  }
 },
 "nbformat": 4,
 "nbformat_minor": 2
}
