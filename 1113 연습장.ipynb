{
 "cells": [
  {
   "cell_type": "code",
   "execution_count": null,
   "metadata": {},
   "outputs": [],
   "source": [
    "def calculate_differences(answers, user_inputs):\n",
    "    if len(answers) != len(user_inputs):\n",
    "        print(\"정답과 입력의 개수가 일치하지 않습니다.\")\n",
    "        return\n",
    "\n",
    "    for i in range(len(answers)):\n",
    "        difference = user_inputs[i] - answers[i]\n",
    "        if difference > 0:\n",
    "            print(f\"입력값 {user_inputs[i]}이(가) 정답 {answers[i]}보다 {difference}만큼 큽니다.\")\n",
    "        elif difference < 0:\n",
    "            print(f\"입력값 {user_inputs[i]}이(가) 정답 {answers[i]}보다 {-difference}만큼 작습니다.\")\n",
    "        else:\n",
    "            print(f\"입력값 {user_inputs[i]}과(와) 정답 {answers[i]}이(가) 동일합니다.\")\n",
    "\n",
    "# 예시\n",
    "answers = [42, 35, 50]\n",
    "user_inputs = [50, 35, 45]\n",
    "calculate_differences(answers, user_inputs)\n"
   ]
  },
  {
   "cell_type": "code",
   "execution_count": 7,
   "metadata": {},
   "outputs": [
    {
     "name": "stdout",
     "output_type": "stream",
     "text": [
      "1 0 0 0 0 1\n"
     ]
    }
   ],
   "source": [
    "answer = [1, 1, 2, 2, 2, 8]\n",
    "user_inputs = list(map(int, input().split()))\n",
    "\n",
    "def calculate(user_inputs):\n",
    "    output = []\n",
    "    for i in range(len(user_inputs)):\n",
    "        output.append(answer[i] - user_inputs[i])\n",
    "    return output\n",
    "\n",
    "output = calculate(user_inputs)\n",
    "print(\" \".join(map(str, output)))"
   ]
  },
  {
   "cell_type": "code",
   "execution_count": 39,
   "metadata": {},
   "outputs": [
    {
     "name": "stdout",
     "output_type": "stream",
     "text": [
      "    *\n",
      "   ***\n",
      "  *****\n",
      " *******\n",
      "*********\n",
      " *******\n",
      "  *****\n",
      "   ***\n",
      "    *\n"
     ]
    }
   ],
   "source": [
    "N = int(input())\n",
    "\n",
    "def pyramid(N):\n",
    "    for i in range(1, N):\n",
    "        print(\" \" * (N - i-1), \"*\" * (2 * i -1))\n",
    "    print(\"*\" * (2*N-1))\n",
    "    for i in range(N-1, 0, -1):\n",
    "        print(\" \" * (N - i-1), \"*\" * (2 * i -1))\n",
    "\n",
    "pyramid(N)"
   ]
  },
  {
   "cell_type": "code",
   "execution_count": 40,
   "metadata": {},
   "outputs": [
    {
     "name": "stdout",
     "output_type": "stream",
     "text": [
      "Counter({'i': 4, 's': 4, 'm': 1, 'p': 1, 'h': 1})\n"
     ]
    }
   ],
   "source": [
    "from collections import Counter\n",
    "\n",
    "def count_alphabets(text):\n",
    "    text = text.lower()\n",
    "    text = [char for char in text if char.isalpha()]\n",
    "    counts = Counter(text)\n",
    "    return counts\n",
    "\n",
    "text = input()\n",
    "result = count_alphabets(text)\n",
    "print(result)"
   ]
  },
  {
   "cell_type": "code",
   "execution_count": 47,
   "metadata": {},
   "outputs": [
    {
     "name": "stdout",
     "output_type": "stream",
     "text": [
      "L\n"
     ]
    }
   ],
   "source": [
    "def count_alphabets(text):\n",
    "    counts = {chr(i) : 0\n",
    "              for i in range(ord(\"A\"), ord(\"Z\") + 1)}\n",
    "    for char in text.upper():\n",
    "        if char.isalpha():\n",
    "            counts[char] += 1\n",
    "    \n",
    "    max_count = max(counts.values())\n",
    "    max_chars = [k for k,v in counts.items() if v == max_count]\n",
    "    if len(max_chars) > 1:\n",
    "        return \"?\"\n",
    "    else:\n",
    "        return max_chars[0]\n",
    "    \n",
    "text = input()\n",
    "result = count_alphabets(text)\n",
    "print(result)"
   ]
  },
  {
   "cell_type": "code",
   "execution_count": null,
   "metadata": {},
   "outputs": [
    {
     "name": "stdout",
     "output_type": "stream",
     "text": [
      "3\n"
     ]
    }
   ],
   "source": [
    "croatian_dict = {\n",
    "    \"c=\": 0,\n",
    "    \"c-\": 0,\n",
    "    \"dz=\": 0,\n",
    "    \"d-\": 0,\n",
    "    \"Ij\": 0,\n",
    "    \"nj\": 0,\n",
    "    \"s=\": 0,\n",
    "    \"z=\": 0\n",
    "}\n",
    "\n",
    "# 일반 소문자 알파벳 추가\n",
    "croatian_dict.update({chr(i): 0 for i in range(ord(\"a\"), ord(\"z\") + 1)})\n",
    "\n",
    "def count_alphabets(text):\n",
    "    counts = croatian_dict.copy()  # 원본 딕셔너리를 보호하기 위해 복사본 사용\n",
    "    i = 0\n",
    "    while i < len(text):\n",
    "        # 3글자 크로아티아 알파벳 'dz=' 처리\n",
    "        if text[i:i+3] == \"dz=\":\n",
    "            counts[\"dz=\"] += 1\n",
    "            i += 3\n",
    "        # 2글자 크로아티아 알파벳 처리\n",
    "        elif text[i:i+2] in counts:\n",
    "            counts[text[i:i+2]] += 1\n",
    "            i += 2\n",
    "        # 1글자 알파벳 처리\n",
    "        elif text[i] in counts:\n",
    "            counts[text[i]] += 1\n",
    "            i += 1\n",
    "        else:\n",
    "            i += 1  # 알파벳이 아닌 경우 다음 문자로 넘어감\n",
    "\n",
    "    # 중복을 포함한 카운트가 1 이상인 항목의 개수를 반환\n",
    "    total_count = sum(v for v in counts.values() if v > 0)\n",
    "    return total_count\n",
    "\n",
    "user_inputs = input(\"문자열을 입력하세요: \")\n",
    "result = count_alphabets(user_inputs)\n",
    "print(result)\n"
   ]
  },
  {
   "cell_type": "code",
   "execution_count": 66,
   "metadata": {},
   "outputs": [
    {
     "name": "stdout",
     "output_type": "stream",
     "text": [
      "3\n"
     ]
    }
   ],
   "source": [
    "user_inputs = input()\n",
    "\n",
    "# 크로아티아 알파벳 목록\n",
    "croatian_alphabets = [\"c=\", \"c-\", \"dz=\", \"d-\", \"lj\", \"nj\", \"s=\", \"z=\"]\n",
    "\n",
    "def count_croatian_alphabets(text):\n",
    "    # 입력 텍스트에서 크로아티아 알파벳을 단일 문자로 취급하여 세기\n",
    "    for alphabet in croatian_alphabets:\n",
    "        # 크로아티아 알파벳이 나타난 부분을 ' ' 공백 문자로 대체하여 개수를 줄임\n",
    "        text = text.replace(alphabet, \" \")\n",
    "\n",
    "    # 공백을 단일 문자로 취급하여 전체 문자열의 길이를 반환\n",
    "    return len(text)\n",
    "\n",
    "# 입력 받기\n",
    "result = count_croatian_alphabets(user_inputs)\n",
    "print(result)\n"
   ]
  },
  {
   "cell_type": "code",
   "execution_count": null,
   "metadata": {},
   "outputs": [],
   "source": []
  }
 ],
 "metadata": {
  "kernelspec": {
   "display_name": "base",
   "language": "python",
   "name": "python3"
  },
  "language_info": {
   "codemirror_mode": {
    "name": "ipython",
    "version": 3
   },
   "file_extension": ".py",
   "mimetype": "text/x-python",
   "name": "python",
   "nbconvert_exporter": "python",
   "pygments_lexer": "ipython3",
   "version": "3.12.4"
  }
 },
 "nbformat": 4,
 "nbformat_minor": 2
}
