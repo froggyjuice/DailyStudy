{
 "cells": [
  {
   "cell_type": "code",
   "execution_count": 7,
   "metadata": {},
   "outputs": [
    {
     "name": "stdout",
     "output_type": "stream",
     "text": [
      "저는 프로그래밍과 학습을 좋아해요!\n"
     ]
    }
   ],
   "source": [
    "# 간단한 대화 코드\n",
    "user_input = input(\"안녕하세요! 궁금한 점이 있나요? \")\n",
    "\n",
    "if \"이름\" in user_input:\n",
    "    print(\"저는 파이썬 대화봇이에요!\")\n",
    "elif \"날씨\" in user_input:\n",
    "    print(\"아직 날씨는 확인할 수 없어요\")\n",
    "elif \"취미\" in user_input:\n",
    "    print(\"저는 프로그래밍과 학습을 좋아해요!\")\n",
    "else:\n",
    "    print(\"잘 이해하지 못했어요. 다시 말씀해주시겠어요?\")\n"
   ]
  },
  {
   "cell_type": "code",
   "execution_count": 2,
   "metadata": {},
   "outputs": [
    {
     "name": "stdout",
     "output_type": "stream",
     "text": [
      "{'name': '구름'}\n"
     ]
    }
   ],
   "source": [
    "dict_a = {}\n",
    "dict_a['name'] = \"구름\"\n",
    "\n",
    "print(dict_a)"
   ]
  },
  {
   "cell_type": "code",
   "execution_count": 3,
   "metadata": {},
   "outputs": [
    {
     "name": "stdout",
     "output_type": "stream",
     "text": [
      "{}\n"
     ]
    }
   ],
   "source": [
    "del dict_a['name']\n",
    "\n",
    "print(dict_a)\n",
    "           "
   ]
  },
  {
   "cell_type": "code",
   "execution_count": 15,
   "metadata": {},
   "outputs": [
    {
     "name": "stdout",
     "output_type": "stream",
     "text": [
      "우리 동네 강아지들의 이름은 구름, 초코, 아지, 호랑이입니다.\n",
      "이 강아지의 이름은 구름, 나이는 5 입니다.\n",
      "이 강아지의 이름은 초코, 나이는 4 입니다.\n",
      "이 강아지의 이름은 아지, 나이는 3 입니다.\n",
      "이 강아지의 이름은 호랑이, 나이는 1 입니다.\n"
     ]
    }
   ],
   "source": [
    "pets = [\n",
    "    {\"name\" : \"구름\", \"age\" : 5},\n",
    "    {\"name\" : \"초코\", \"age\" : 4},\n",
    "    {\"name\" : \"아지\", \"age\" : 3},\n",
    "    {\"name\" : \"호랑이\", \"age\": 1}\n",
    "]\n",
    "\n",
    "pet_names = \", \".join([pet[\"name\"] for pet in pets])\n",
    "print(f\"우리 동네 강아지들의 이름은 {pet_names}입니다.\")\n",
    "\n",
    "for pet in pets:\n",
    "    name = pet[\"name\"]\n",
    "    age = pet[\"age\"]\n",
    "    print(f\"이 강아지의 이름은 {name}, 나이는 {age} 입니다.\")\n",
    "\n",
    "count = len([pet for pet in pets if pet[\"age\"] >= 3])\n",
    "print(f\"3살 이상인 동물의 수는 {count}마리 입니다.\")\n",
    "\n"
   ]
  },
  {
   "cell_type": "code",
   "execution_count": 16,
   "metadata": {},
   "outputs": [
    {
     "name": "stdout",
     "output_type": "stream",
     "text": [
      "{1: 3, 2: 2, 6: 1, 5: 3, 9: 3, 3: 2, 4: 2, 7: 1, 95: 1, 16: 1, 87: 1, 326: 1, 8: 1}\n"
     ]
    }
   ],
   "source": [
    "numbers = [1,2,6,5,1,5,9,9,5,3,4,7,95,16,87,326,4,9,1,2,3,8]\n",
    "counter = {}\n",
    "\n",
    "for number in numbers:\n",
    "    if number in counter:\n",
    "        counter[number] += 1\n",
    "    else:\n",
    "        counter[number] = 1\n",
    "\n",
    "print(counter)"
   ]
  },
  {
   "cell_type": "code",
   "execution_count": 25,
   "metadata": {},
   "outputs": [
    {
     "name": "stdout",
     "output_type": "stream",
     "text": [
      "name : 기사\n",
      "level : 23\n",
      "sword : 불꽃의 검\n",
      "armor : 강철 갑옷\n",
      "skills : 베기\n",
      "skills : 세게 베기\n",
      "skills : 아주 세게 베기\n"
     ]
    }
   ],
   "source": [
    "character = {\n",
    "    \"name\" : \"기사\",\n",
    "    \"level\" : 23,\n",
    "    \"items\" : {\n",
    "        \"sword\" : \"불꽃의 검\",\n",
    "        \"armor\" : \"강철 갑옷\"\n",
    "    },\n",
    "    \"skills\" : [\"베기\", \"세게 베기\", \"아주 세게 베기\"]\n",
    "}\n",
    "\n",
    "for key in character:\n",
    "    value = character[key]\n",
    "    if type(value) is str or type(value) is int:\n",
    "        print(f\"{key} : {value}\")\n",
    "    elif type(value) is dict:\n",
    "        for sub_key, sub_value in value.items():\n",
    "            print(f\"{sub_key} : {sub_value}\")\n",
    "    elif type(value) is list:\n",
    "        for item in value:\n",
    "            print(f\"{key} : {item}\")\n"
   ]
  },
  {
   "cell_type": "code",
   "execution_count": null,
   "metadata": {},
   "outputs": [],
   "source": [
    "character = {\n",
    "    \"name\": \"기사\",\n",
    "    \"level\": 23,\n",
    "    \"items\": {\n",
    "        \"sword\": \"불꽃의 검\",\n",
    "        \"armor\": \"강철 갑옷\"\n",
    "    },\n",
    "    \"skills\": [\"베기\", \"세게 베기\", \"아주 세게 베기\"]\n",
    "}\n",
    "\n",
    "for key in character:\n",
    "    value = character[key]  # 각 키에 대한 값 가져오기\n",
    "    if isinstance(value, (str, int)):\n",
    "        # 값이 문자열이나 숫자일 경우 그대로 출력\n",
    "        print(f\"{key} : {value}\")\n",
    "    \n",
    "    elif isinstance(value, dict):\n",
    "        # 값이 딕셔너리일 경우 내부 키-값 쌍을 개별적으로 출력\n",
    "        for sub_key, sub_value in value.items():\n",
    "            print(f\"{sub_key} : {sub_value}\")\n",
    "    \n",
    "    elif isinstance(value, list):\n",
    "        # 값이 리스트일 경우 각 요소를 개별적으로 출력\n",
    "        for item in value:\n",
    "            print(f\"{key} : {item}\")\n"
   ]
  },
  {
   "cell_type": "code",
   "execution_count": 15,
   "metadata": {},
   "outputs": [
    {
     "name": "stdout",
     "output_type": "stream",
     "text": [
      "*\n",
      "**\n",
      "***\n",
      "****\n",
      "*****\n",
      "******\n",
      "*******\n",
      "********\n",
      "*********\n",
      "**********\n"
     ]
    }
   ],
   "source": [
    "# 반복문으로 피라미드 만들기\n",
    "\n",
    "height = 10\n",
    "for i in range(1, height + 1):\n",
    "    result = \"\"\n",
    "    for j in range(i):\n",
    "        result += \"*\"\n",
    "    print(result)\n"
   ]
  },
  {
   "cell_type": "code",
   "execution_count": null,
   "metadata": {},
   "outputs": [],
   "source": [
    "print(\"  *\") # 띄어쓰기 2개 별 1개 = 3칸\n",
    "print(\" ***\") # 띄어쓰기 1개 별 3개 = 4칸\n",
    "print(\"*****\") # 띄어쓰기 0개 별 5개 = 5칸"
   ]
  },
  {
   "cell_type": "code",
   "execution_count": 27,
   "metadata": {},
   "outputs": [
    {
     "name": "stdout",
     "output_type": "stream",
     "text": [
      "         *\n",
      "        ***\n",
      "       *****\n",
      "      *******\n",
      "     *********\n",
      "    ***********\n",
      "   *************\n",
      "  ***************\n",
      " *****************\n",
      "*******************\n"
     ]
    }
   ],
   "source": [
    "height = 10\n",
    "for i in range(1, height + 1):\n",
    "    result = \"\"\n",
    "    result += \" \" * (height - i)\n",
    "    result += \"*\" * (2 * i - 1)\n",
    "    print(result)"
   ]
  },
  {
   "cell_type": "code",
   "execution_count": 1,
   "metadata": {},
   "outputs": [
    {
     "name": "stdout",
     "output_type": "stream",
     "text": [
      "입력한 값: 종료\n"
     ]
    }
   ],
   "source": [
    "user_input = \"\"\n",
    "while user_input != \"종료\":\n",
    "    user_input = input(\"종료하려면 '종료'를 입력하세요: \")\n",
    "    print(f\"입력한 값: {user_input}\")"
   ]
  },
  {
   "cell_type": "code",
   "execution_count": 2,
   "metadata": {},
   "outputs": [
    {
     "name": "stdout",
     "output_type": "stream",
     "text": [
      "반복 중...\n",
      "반복 중...\n",
      "반복 중...\n",
      "반복 중...\n",
      "반복 중...\n"
     ]
    }
   ],
   "source": [
    "count = 0\n",
    "while True:  # 무한 반복\n",
    "    print(\"반복 중...\")\n",
    "    count += 1\n",
    "    if count == 5:  # count가 5가 되면 반복 종료\n",
    "        break\n"
   ]
  },
  {
   "cell_type": "code",
   "execution_count": 3,
   "metadata": {},
   "outputs": [
    {
     "name": "stdout",
     "output_type": "stream",
     "text": [
      "반복 중...\n",
      "반복 중...\n",
      "반복 중...\n",
      "반복 중...\n",
      "반복 중...\n",
      "5초가 경과하여 반복문을 종료합니다.\n"
     ]
    }
   ],
   "source": [
    "import time\n",
    "\n",
    "start_time = time.time()  # 시작 시간을 기록\n",
    "\n",
    "while time.time() - start_time < 5:  # 5초가 지날 때까지 반복\n",
    "    print(\"반복 중...\")\n",
    "    time.sleep(1)  # 1초 간격으로 실행 (옵션)\n",
    "    \n",
    "print(\"5초가 경과하여 반복문을 종료합니다.\")\n"
   ]
  },
  {
   "cell_type": "code",
   "execution_count": 2,
   "metadata": {},
   "outputs": [
    {
     "name": "stdout",
     "output_type": "stream",
     "text": [
      "{'name': '기사', 'hp': 200, 'mp': 30, 'level': 5}\n"
     ]
    }
   ],
   "source": [
    "key_list = [\"name\", \"hp\", \"mp\", \"level\"]\n",
    "value_list = [\"기사\", 200, 30, 5]\n",
    "character = {}\n",
    "\n",
    "for i in range(len(key_list)):\n",
    "    character[key_list[i]] = value_list[i]\n",
    "\n",
    "print(character)"
   ]
  },
  {
   "cell_type": "code",
   "execution_count": 3,
   "metadata": {},
   "outputs": [
    {
     "name": "stdout",
     "output_type": "stream",
     "text": [
      "142를 더할 때 10000를 넘으며 그때의 값은 10011입니다.\n"
     ]
    }
   ],
   "source": [
    "limit = 10000\n",
    "i = 1\n",
    "\n",
    "sum_value = 0\n",
    "while sum_value < limit:\n",
    "    sum_value += i\n",
    "    i += 1\n",
    "\n",
    "print(\"{}를 더할 때 {}를 넘으며 그때의 값은 {}입니다.\".format(i, limit, sum_value))"
   ]
  },
  {
   "cell_type": "code",
   "execution_count": 7,
   "metadata": {},
   "outputs": [
    {
     "name": "stdout",
     "output_type": "stream",
     "text": [
      "최대가 되는 경우: 5 * 5 = 25\n"
     ]
    }
   ],
   "source": [
    "max_value = 0\n",
    "a = 0\n",
    "b = 0\n",
    "\n",
    "for i in range(1, 9 + 1):\n",
    "    j = 10 - i\n",
    "    if max_value < i * j:\n",
    "        a = i\n",
    "        b = j\n",
    "        max_value = i * j\n",
    "\n",
    "print(\"최대가 되는 경우: {} * {} = {}\".format(a, b, max_value))"
   ]
  }
 ],
 "metadata": {
  "kernelspec": {
   "display_name": "base",
   "language": "python",
   "name": "python3"
  },
  "language_info": {
   "codemirror_mode": {
    "name": "ipython",
    "version": 3
   },
   "file_extension": ".py",
   "mimetype": "text/x-python",
   "name": "python",
   "nbconvert_exporter": "python",
   "pygments_lexer": "ipython3",
   "version": "3.12.4"
  }
 },
 "nbformat": 4,
 "nbformat_minor": 2
}
