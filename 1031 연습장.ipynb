{
 "cells": [
  {
   "cell_type": "code",
   "execution_count": 4,
   "metadata": {},
   "outputs": [
    {
     "name": "stdout",
     "output_type": "stream",
     "text": [
      "1010\n",
      "12\n",
      "a\n"
     ]
    },
    {
     "data": {
      "text/plain": [
       "10"
      ]
     },
     "execution_count": 4,
     "metadata": {},
     "output_type": "execute_result"
    }
   ],
   "source": [
    "print(f\"{10:b}\")\n",
    "print(f\"{10:o}\")\n",
    "print(f\"{10:x}\")\n",
    "int(\"1010\", 2)\n",
    "int(\"12\", 8)\n",
    "int(\"a\",16)"
   ]
  },
  {
   "cell_type": "code",
   "execution_count": 5,
   "metadata": {},
   "outputs": [
    {
     "data": {
      "text/plain": [
       "2"
      ]
     },
     "execution_count": 5,
     "metadata": {},
     "output_type": "execute_result"
    }
   ],
   "source": [
    "\"1010\".count(\"1\")"
   ]
  },
  {
   "cell_type": "code",
   "execution_count": 20,
   "metadata": {},
   "outputs": [
    {
     "name": "stdout",
     "output_type": "stream",
     "text": [
      "2 : 10\n",
      "5 : 101\n",
      "6 : 110\n",
      "11 : 1011\n",
      "13 : 1101\n",
      "14 : 1110\n",
      "23 : 10111\n",
      "27 : 11011\n",
      "29 : 11101\n",
      "30 : 11110\n",
      "47 : 101111\n",
      "55 : 110111\n",
      "59 : 111011\n",
      "61 : 111101\n",
      "62 : 111110\n",
      "95 : 1011111\n",
      "[2, 5, 6, 11, 13, 14, 23, 27, 29, 30, 47, 55, 59, 61, 62, 95]\n",
      "합계: 539\n"
     ]
    }
   ],
   "source": [
    "a = []\n",
    "for i in range(1, 100 + 1):\n",
    "    j  = f\"{i:b}\"\n",
    "    if j.count(\"0\") == 1:\n",
    "        print(i, \":\", j)\n",
    "        a.append(i)\n",
    "\n",
    "print(a)\n",
    "print(\"합계:\", sum(a))\n"
   ]
  },
  {
   "cell_type": "code",
   "execution_count": 19,
   "metadata": {},
   "outputs": [
    {
     "name": "stdout",
     "output_type": "stream",
     "text": [
      "2 : 10\n",
      "5 : 101\n",
      "6 : 110\n",
      "11 : 1011\n",
      "13 : 1101\n",
      "14 : 1110\n",
      "23 : 10111\n",
      "27 : 11011\n",
      "29 : 11101\n",
      "30 : 11110\n",
      "47 : 101111\n",
      "55 : 110111\n",
      "59 : 111011\n",
      "61 : 111101\n",
      "62 : 111110\n",
      "95 : 1011111\n",
      "합계: 539\n"
     ]
    }
   ],
   "source": [
    "a = [\n",
    "    i\n",
    "    for i in range(1, 100 + 1)\n",
    "    if f\"{i:b}\".count(\"0\") == 1\n",
    "]\n",
    "\n",
    "for i in a:\n",
    "    print(i, \":\", f\"{i:b}\")\n",
    "print(\"합계:\", sum(a))"
   ]
  },
  {
   "cell_type": "code",
   "execution_count": 33,
   "metadata": {},
   "outputs": [
    {
     "name": "stdout",
     "output_type": "stream",
     "text": [
      "[1, 2, 3, 4, 1, 2, 3, 1, 4, 1, 2, 3]에서\n",
      "사용된 숫자의 종류는 4개입니다.\n",
      "참고: {1: 4, 2: 3, 3: 3, 4: 2}\n"
     ]
    }
   ],
   "source": [
    "A = [1, 2, 3, 4, 1, 2, 3, 1, 4, 1, 2, 3]\n",
    "\n",
    "counter = {}\n",
    "for a in A:\n",
    "    if a not in counter:\n",
    "        counter[a] = 0\n",
    "    counter[a] += 1\n",
    "\n",
    "output = [\n",
    "    f\"{A}에서\", \n",
    "    f\"사용된 숫자의 종류는 {len(counter)}개입니다.\", \n",
    "    f\"참고: {counter}\"\n",
    "]\n",
    "print(\"\\n\".join(output))\n"
   ]
  },
  {
   "cell_type": "code",
   "execution_count": null,
   "metadata": {},
   "outputs": [
    {
     "name": "stdout",
     "output_type": "stream",
     "text": [
      "염기 서열을 입력해주세요: ctacaatgtatacccattgcattgccgg\n",
      "a의 개수: 7\n",
      "c의 개수: 8\n",
      "g의 개수: 5\n",
      "t의 개수: 8\n"
     ]
    }
   ],
   "source": [
    "base_sequence = input(\"염기 서열을 입력해주세요:\")\n",
    "\n",
    "counter = {}\n",
    "for base in base_sequence:\n",
    "    if base not in counter:\n",
    "        counter[base] = 0\n",
    "    counter[base] += 1\n",
    "\n",
    "print(f\"염기 서열을 입력해주세요: {base_sequence}\")\n",
    "for base in sorted(counter):\n",
    "    print(f\"{base}의 개수: {counter[base]}\")"
   ]
  },
  {
   "cell_type": "code",
   "execution_count": 39,
   "metadata": {},
   "outputs": [
    {
     "name": "stdout",
     "output_type": "stream",
     "text": [
      "염기 서열을 입력해주세요: ctacaatgtatacccattgcattgccgg\n",
      "{'cta': 1, 'caa': 1, 'tgt': 1, 'ata': 1, 'ccc': 1, 'att': 1, 'gca': 1, 'ttg': 1, 'ccg': 1}\n"
     ]
    }
   ],
   "source": [
    "A = input(\"염기 서열을 입력해주세요:\")\n",
    "\n",
    "counter = {}\n",
    "for i in range(0, len(A), 3):\n",
    "    a = A[i:i+3]\n",
    "    if len(a) != 3:\n",
    "        continue\n",
    "    if a not in counter:\n",
    "        counter[a] = 0\n",
    "    counter[a] += 1\n",
    "\n",
    "print(f\"염기 서열을 입력해주세요: {base_sequence}\")\n",
    "print(counter)"
   ]
  },
  {
   "cell_type": "code",
   "execution_count": 47,
   "metadata": {},
   "outputs": [
    {
     "name": "stdout",
     "output_type": "stream",
     "text": [
      "[1, 2, [3, 4], 5, [6, 7], [8, 9]]를 평탄화하면\n",
      "[1, 2, 3, 4, 5, 6, 7, 8, 9]입니다.\n"
     ]
    }
   ],
   "source": [
    "A = [1, 2, [3, 4], 5, [6, 7], [8, 9]]\n",
    "B = []\n",
    "\n",
    "for a in A:\n",
    "    if type(a) == list:\n",
    "        for i in a:\n",
    "            B.append(i) # B += [i] 리스트끼리 연산하지 않으면 typeError\n",
    "    else:\n",
    "        B.append(a) # B += [a]\n",
    "\n",
    "print(f\"{A}를 평탄화하면\")\n",
    "print(f\"{B}입니다.\")"
   ]
  },
  {
   "cell_type": "code",
   "execution_count": null,
   "metadata": {},
   "outputs": [],
   "source": []
  }
 ],
 "metadata": {
  "kernelspec": {
   "display_name": "base",
   "language": "python",
   "name": "python3"
  },
  "language_info": {
   "codemirror_mode": {
    "name": "ipython",
    "version": 3
   },
   "file_extension": ".py",
   "mimetype": "text/x-python",
   "name": "python",
   "nbconvert_exporter": "python",
   "pygments_lexer": "ipython3",
   "version": "3.12.4"
  }
 },
 "nbformat": 4,
 "nbformat_minor": 2
}
